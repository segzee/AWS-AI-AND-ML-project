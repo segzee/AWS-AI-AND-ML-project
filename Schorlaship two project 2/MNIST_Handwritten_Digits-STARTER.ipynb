{
 "cells": [
  {
   "cell_type": "markdown",
   "metadata": {},
   "source": [
    "# Introduction\n",
    "\n",
    "In this project, you will build a neural network of your own design to evaluate the MNIST dataset.\n",
    "\n",
    "Some of the benchmark results on MNIST include can be found [on Yann LeCun's page](http://yann.lecun.com/exdb/mnist/) and include:\n",
    "\n",
    "88% [Lecun et al., 1998](http://yann.lecun.com/exdb/publis/pdf/lecun-98.pdf)\n",
    "95.3% [Lecun et al., 1998](http://yann.lecun.com/exdb/publis/pdf/lecun-98.pdf)\n",
    "99.65% [Ciresan et al., 2011](http://people.idsia.ch/~juergen/ijcai2011.pdf)\n",
    "\n",
    "MNIST is a great dataset for sanity checking your models, since the accuracy levels achieved by large convolutional neural networks and small linear models are both quite high. This makes it important to be familiar with the data.\n",
    "\n",
    "## Imports"
   ]
  },
  {
   "cell_type": "code",
   "execution_count": 18,
   "metadata": {},
   "outputs": [],
   "source": [
    "## This cell contains the essential imports you will need – DO NOT CHANGE THE CONTENTS! ##\n",
    "import torch\n",
    "import torch.nn as nn\n",
    "import torch.nn.functional as F\n",
    "import torch.optim as optim\n",
    "import torchvision\n",
    "import matplotlib.pyplot as plt\n",
    "import numpy as np\n",
    "import torch.utils.data\n",
    "import torchvision.transforms as transforms\n",
    "import torchvision.transforms as T\n",
    "#import helper\n",
    "%matplotlib inline\n",
    "%config InlineBackend.figure_format = 'retina'"
   ]
  },
  {
   "cell_type": "code",
   "execution_count": 19,
   "metadata": {},
   "outputs": [
    {
     "name": "stdout",
     "output_type": "stream",
     "text": [
      "jupyter core     : 4.6.3\n",
      "jupyter-notebook : 5.7.4\n",
      "qtconsole        : not installed\n",
      "ipython          : 7.13.0\n",
      "ipykernel        : 5.1.4\n",
      "jupyter client   : 6.0.0\n",
      "jupyter lab      : 1.0.9\n",
      "nbconvert        : 5.6.1\n",
      "ipywidgets       : not installed\n",
      "nbformat         : 5.0.4\n",
      "traitlets        : 4.3.3\n",
      "Known nbextensions:\n",
      "  config dir: /root/.jupyter/nbconfig\n",
      "    notebook section\n",
      "      jupyng-dist/extension \u001b[32m enabled \u001b[0m\n",
      "      - Validating: \u001b[32mOK\u001b[0m\n",
      "      workspaces-jupyter-terms-and-conditions-dist/terms_extension \u001b[32m enabled \u001b[0m\n",
      "      - Validating: \u001b[32mOK\u001b[0m\n",
      "      graffiti-dist/graffiti \u001b[32m enabled \u001b[0m\n",
      "      - Validating: \u001b[32mOK\u001b[0m\n",
      "Traceback (most recent call last):\n",
      "  File \"/opt/conda/bin/jupyter-nbextension\", line 11, in <module>\n",
      "    sys.exit(main())\n",
      "  File \"/opt/conda/lib/python3.7/site-packages/jupyter_core/application.py\", line 270, in launch_instance\n",
      "    return super(JupyterApp, cls).launch_instance(argv=argv, **kwargs)\n",
      "  File \"/opt/conda/lib/python3.7/site-packages/traitlets/config/application.py\", line 664, in launch_instance\n",
      "    app.start()\n",
      "  File \"/opt/conda/lib/python3.7/site-packages/notebook/nbextensions.py\", line 988, in start\n",
      "    super(NBExtensionApp, self).start()\n",
      "  File \"/opt/conda/lib/python3.7/site-packages/jupyter_core/application.py\", line 259, in start\n",
      "    self.subapp.start()\n",
      "  File \"/opt/conda/lib/python3.7/site-packages/notebook/nbextensions.py\", line 896, in start\n",
      "    self.toggle_nbextension_python(self.extra_args[0])\n",
      "  File \"/opt/conda/lib/python3.7/site-packages/notebook/nbextensions.py\", line 872, in toggle_nbextension_python\n",
      "    logger=self.log)\n",
      "  File \"/opt/conda/lib/python3.7/site-packages/notebook/nbextensions.py\", line 483, in enable_nbextension_python\n",
      "    logger=logger)\n",
      "  File \"/opt/conda/lib/python3.7/site-packages/notebook/nbextensions.py\", line 380, in _set_nbextension_state_python\n",
      "    m, nbexts = _get_nbextension_metadata(module)\n",
      "  File \"/opt/conda/lib/python3.7/site-packages/notebook/nbextensions.py\", line 1122, in _get_nbextension_metadata\n",
      "    m = import_item(module)\n",
      "  File \"/opt/conda/lib/python3.7/site-packages/traitlets/utils/importstring.py\", line 42, in import_item\n",
      "    return __import__(parts[0])\n",
      "ModuleNotFoundError: No module named 'widgetsnbextension'\n"
     ]
    }
   ],
   "source": [
    "!jupyter --version\n",
    "!jupyter nbextension list\n",
    "\n",
    "!jupyter nbextension enable --py widgetsnbextension"
   ]
  },
  {
   "cell_type": "code",
   "execution_count": 20,
   "metadata": {},
   "outputs": [],
   "source": [
    "transforms = T.Compose(\n",
    "    \n",
    "    [   # This transforms takes a np.array or a PIL image of integers\n",
    "        T.ToTensor(),\n",
    "        T.Normalize((0.5), (0.5))\n",
    "    ]\n",
    ")"
   ]
  },
  {
   "cell_type": "markdown",
   "metadata": {},
   "source": [
    "## Load the Dataset\n",
    "\n",
    "Specify your transforms as a list if you intend to .\n",
    "The transforms module is already loaded as `transforms`.\n",
    "\n",
    "MNIST is fortunately included in the torchvision module.\n",
    "Then, you can create your dataset using the `MNIST` object from `torchvision.datasets` ([the documentation is available here](https://pytorch.org/vision/stable/datasets.html#mnist)).\n",
    "Make sure to specify `download=True`! \n",
    "\n",
    "Once your dataset is created, you'll also need to define a `DataLoader` from the `torch.utils.data` module for both the train and the test set."
   ]
  },
  {
   "cell_type": "code",
   "execution_count": 21,
   "metadata": {},
   "outputs": [],
   "source": [
    "transforms = T.Compose(\n",
    "    \n",
    "    [T.ToTensor(),\n",
    "     T.Normalize((0.5), (0.5))] )\n",
    "    \n",
    "# Create training set and define training dataloader\n",
    "train_set = torchvision.datasets.MNIST('DATA_MNIST/', download=True, train=True, transform=transforms)\n",
    "trainloader = torch.utils.data.DataLoader(train_set, batch_size=64, shuffle=True)\n",
    "\n",
    "# Create test set and define test dataloader\n",
    "test_set = torchvision.datasets.MNIST('DATA_MNIST/', download=True, train=False, transform=transforms)\n",
    "testloader = torch.utils.data.DataLoader(test_set, batch_size=64, shuffle=True)\n",
    "\n",
    "# Create validation set and define validation dataloader\n",
    "valid_set = torchvision.datasets.MNIST('DATA_MNIST/', download=True, train=False, transform=transforms)\n",
    "validloader = torch.utils.data.DataLoader(valid_set, batch_size=64, shuffle=False) "
   ]
  },
  {
   "cell_type": "markdown",
   "metadata": {},
   "source": [
    "## Justify your preprocessing\n",
    "\n",
    "In your own words, why did you choose the transforms you chose? If you didn't use any preprocessing steps, why not?"
   ]
  },
  {
   "cell_type": "markdown",
   "metadata": {},
   "source": [
    "**DOUBLE CLICK THIS CELL TO MODIFY**"
   ]
  },
  {
   "cell_type": "markdown",
   "metadata": {},
   "source": [
    "## Explore the Dataset\n",
    "Using matplotlib, numpy, and torch, explore the dimensions of your data.\n",
    "\n",
    "You can view images using the `show5` function defined below – it takes a data loader as an argument.\n",
    "Remember that normalized images will look really weird to you! You may want to try changing your transforms to view images.\n",
    "Typically using no transforms other than `toTensor()` works well for viewing – but not as well for training your network.\n",
    "If `show5` doesn't work, go back and check your code for creating your data loaders and your training/test sets."
   ]
  },
  {
   "cell_type": "code",
   "execution_count": 22,
   "metadata": {},
   "outputs": [],
   "source": [
    "## This cell contains a function for showing 5 images from a dataloader – DO NOT CHANGE THE CONTENTS! ##\n",
    "def show5(img_loader):\n",
    "    dataiter = iter(img_loader)\n",
    "    \n",
    "    batch = next(dataiter)\n",
    "    labels = batch[1][0:5]\n",
    "    images = batch[0][0:5]\n",
    "    for i in range(5):\n",
    "        print(int(labels[i].detach()))\n",
    "    \n",
    "        image = images[i].numpy()\n",
    "        plt.imshow(image.T.squeeze().T)\n",
    "        plt.show()"
   ]
  },
  {
   "cell_type": "code",
   "execution_count": 23,
   "metadata": {},
   "outputs": [
    {
     "name": "stdout",
     "output_type": "stream",
     "text": [
      "2\n"
     ]
    },
    {
     "data": {
      "image/png": "[encoded data removed]",
      "text/plain": [
       "<Figure size 432x288 with 1 Axes>"
      ]
     },
     "metadata": {
      "image/png": {
       "height": 248,
       "width": 251
      },
      "needs_background": "light"
     },
     "output_type": "display_data"
    },
    {
     "name": "stdout",
     "output_type": "stream",
     "text": [
      "1\n"
     ]
    },
    {
     "data": {
      "image/png": "[encoded data removed]",
      "text/plain": [
       "<Figure size 432x288 with 1 Axes>"
      ]
     },
     "metadata": {
      "image/png": {
       "height": 248,
       "width": 251
      },
      "needs_background": "light"
     },
     "output_type": "display_data"
    },
    {
     "name": "stdout",
     "output_type": "stream",
     "text": [
      "4\n"
     ]
    },
    {
     "data": {
      "image/png": "[encoded data removed]",
      "text/plain": [
       "<Figure size 432x288 with 1 Axes>"
      ]
     },
     "metadata": {
      "image/png": {
       "height": 248,
       "width": 251
      },
      "needs_background": "light"
     },
     "output_type": "display_data"
    },
    {
     "name": "stdout",
     "output_type": "stream",
     "text": [
      "4\n"
     ]
    },
    {
     "data": {
      "image/png": "[encoded data removed]",
      "text/plain": [
       "<Figure size 432x288 with 1 Axes>"
      ]
     },
     "metadata": {
      "image/png": {
       "height": 248,
       "width": 251
      },
      "needs_background": "light"
     },
     "output_type": "display_data"
    },
    {
     "name": "stdout",
     "output_type": "stream",
     "text": [
      "7\n"
     ]
    },
    {
     "data": {
      "image/png": "[encoded data removed]",
      "text/plain": [
       "<Figure size 432x288 with 1 Axes>"
      ]
     },
     "metadata": {
      "image/png": {
       "height": 248,
       "width": 251
      },
      "needs_background": "light"
     },
     "output_type": "display_data"
    }
   ],
   "source": [
    "# obtain one batch of training images\n",
    "# Show 5 images from the training loader\n",
    "show5(trainloader)"
   ]
  },
  {
   "cell_type": "code",
   "execution_count": 24,
   "metadata": {
    "scrolled": true
   },
   "outputs": [
    {
     "name": "stdout",
     "output_type": "stream",
     "text": [
      "2\n"
     ]
    },
    {
     "data": {
      "image/png": "[encoded data removed]",
      "text/plain": [
       "<Figure size 432x288 with 1 Axes>"
      ]
     },
     "metadata": {
      "image/png": {
       "height": 248,
       "width": 251
      },
      "needs_background": "light"
     },
     "output_type": "display_data"
    },
    {
     "name": "stdout",
     "output_type": "stream",
     "text": [
      "4\n"
     ]
    },
    {
     "data": {
      "image/png": "[encoded data removed]",
      "text/plain": [
       "<Figure size 432x288 with 1 Axes>"
      ]
     },
     "metadata": {
      "image/png": {
       "height": 248,
       "width": 251
      },
      "needs_background": "light"
     },
     "output_type": "display_data"
    },
    {
     "name": "stdout",
     "output_type": "stream",
     "text": [
      "4\n"
     ]
    },
    {
     "data": {
      "image/png": "[encoded data removed]",
      "text/plain": [
       "<Figure size 432x288 with 1 Axes>"
      ]
     },
     "metadata": {
      "image/png": {
       "height": 248,
       "width": 251
      },
      "needs_background": "light"
     },
     "output_type": "display_data"
    },
    {
     "name": "stdout",
     "output_type": "stream",
     "text": [
      "1\n"
     ]
    },
    {
     "data": {
      "image/png": "[encoded data removed]",
      "text/plain": [
       "<Figure size 432x288 with 1 Axes>"
      ]
     },
     "metadata": {
      "image/png": {
       "height": 248,
       "width": 251
      },
      "needs_background": "light"
     },
     "output_type": "display_data"
    },
    {
     "name": "stdout",
     "output_type": "stream",
     "text": [
      "4\n"
     ]
    },
    {
     "data": {
      "image/png": "[encoded data removed]",
      "text/plain": [
       "<Figure size 432x288 with 1 Axes>"
      ]
     },
     "metadata": {
      "image/png": {
       "height": 248,
       "width": 251
      },
      "needs_background": "light"
     },
     "output_type": "display_data"
    }
   ],
   "source": [
    "# Show 5 images from the test loader\n",
    "show5(testloader)"
   ]
  },
  {
   "cell_type": "markdown",
   "metadata": {},
   "source": [
    "## Build your Neural Network\n",
    "Using the layers in `torch.nn` (which has been imported as `nn`) and the `torch.nn.functional` module (imported as `F`), construct a neural network based on the parameters of the dataset.\n",
    "Use any architecture you like. \n",
    "\n",
    "*Note*: If you did not flatten your tensors in your transforms or as part of your preprocessing and you are using only `Linear` layers, make sure to use the `Flatten` layer in your network!"
   ]
  },
  {
   "cell_type": "code",
   "execution_count": 25,
   "metadata": {},
   "outputs": [],
   "source": [
    "class SimpleNN(nn.Module):\n",
    "    def __init__(self, input_size, a_hidden_dim, b_hidden_dim, output_size):\n",
    "        super(SimpleNN, self).__init__()\n",
    "        \n",
    "        # Define input and hidden linear layers\n",
    "        self.flatten = nn.Flatten()\n",
    "        self.fc1 = nn.Linear(input_size, a_hidden_dim)\n",
    "        self.fc2 = nn.Linear(a_hidden_dim, b_hidden_dim)\n",
    "        \n",
    "        # Final fully-connected layer\n",
    "        self.fc3 = nn.Linear(b_hidden_dim, output_size)\n",
    "        \n",
    "        # Dropout layer \n",
    "        self.dropout = nn.Dropout(0.3)\n",
    "                \n",
    "    def forward(self, x):\n",
    "        x = self.flatten(x)\n",
    "        x = F.relu(self.fc1(x))\n",
    "        x = self.dropout(x)  # Apply dropout to the hidden layer\n",
    "        x = F.relu(self.fc2(x))\n",
    "        x = self.dropout(x)\n",
    "        x = self.fc3(x)\n",
    "        return x"
   ]
  },
  {
   "cell_type": "code",
   "execution_count": 26,
   "metadata": {},
   "outputs": [],
   "source": [
    "input_size = 28 * 28\n",
    "a_hidden_dim = 340\n",
    "b_hidden_dim = 128\n",
    "output_size = 10\n",
    "model = SimpleNN(input_size, a_hidden_dim, b_hidden_dim, output_size)"
   ]
  },
  {
   "cell_type": "code",
   "execution_count": 27,
   "metadata": {},
   "outputs": [
    {
     "data": {
      "text/plain": [
       "SimpleNN(\n",
       "  (flatten): Flatten(start_dim=1, end_dim=-1)\n",
       "  (fc1): Linear(in_features=784, out_features=340, bias=True)\n",
       "  (fc2): Linear(in_features=340, out_features=128, bias=True)\n",
       "  (fc3): Linear(in_features=128, out_features=10, bias=True)\n",
       "  (dropout): Dropout(p=0.3, inplace=False)\n",
       ")"
      ]
     },
     "execution_count": 27,
     "metadata": {},
     "output_type": "execute_result"
    }
   ],
   "source": [
    "model"
   ]
  },
  {
   "cell_type": "markdown",
   "metadata": {},
   "source": [
    "Specify a loss function and an optimizer, and instantiate the model.\n",
    "\n",
    "If you use a less common loss function, please note why you chose that loss function in a comment."
   ]
  },
  {
   "cell_type": "code",
   "execution_count": 28,
   "metadata": {},
   "outputs": [
    {
     "data": {
      "text/plain": [
       "SimpleNN(\n",
       "  (flatten): Flatten(start_dim=1, end_dim=-1)\n",
       "  (fc1): Linear(in_features=784, out_features=340, bias=True)\n",
       "  (fc2): Linear(in_features=340, out_features=128, bias=True)\n",
       "  (fc3): Linear(in_features=128, out_features=10, bias=True)\n",
       "  (dropout): Dropout(p=0.3, inplace=False)\n",
       ")"
      ]
     },
     "execution_count": 28,
     "metadata": {},
     "output_type": "execute_result"
    }
   ],
   "source": [
    "import torch.optim as optim\n",
    "\n",
    "learning_rate = 0.02\n",
    "criterion = nn.CrossEntropyLoss()  # For classification tasks\n",
    "optimizer = optim.SGD(model.parameters(), lr=learning_rate)\n",
    "num_epochs = 50\n",
    "device = torch.device(\"cuda\" if torch.cuda.is_available() else \"cpu\")\n",
    "model.to(device)"
   ]
  },
  {
   "cell_type": "markdown",
   "metadata": {},
   "source": [
    "## Running your Neural Network\n",
    "Use whatever method you like to train your neural network, and ensure you record the average loss at each epoch. \n",
    "Don't forget to use `torch.device()` and the `.to()` method for both your model and your data if you are using GPU!\n",
    "\n",
    "If you want to print your loss **during** each epoch, you can use the `enumerate` function and print the loss after a set number of batches. 250 batches works well for most people!"
   ]
  },
  {
   "cell_type": "code",
   "execution_count": 29,
   "metadata": {},
   "outputs": [
    {
     "name": "stdout",
     "output_type": "stream",
     "text": [
      "Epoch [1/50] - Batch [250/938] - Loss: 0.8446\n",
      "Epoch [1/50] - Batch [500/938] - Loss: 0.4976\n",
      "Epoch [1/50] - Batch [750/938] - Loss: 0.7340\n",
      "Epoch [1/50] - Train Loss: 0.8236\n",
      "Epoch [1/50] - Valid Loss: 0.3478\n",
      "Epoch [2/50] - Batch [250/938] - Loss: 0.5645\n",
      "Epoch [2/50] - Batch [500/938] - Loss: 0.4633\n",
      "Epoch [2/50] - Batch [750/938] - Loss: 0.2278\n",
      "Epoch [2/50] - Train Loss: 0.3778\n",
      "Epoch [2/50] - Valid Loss: 0.2533\n",
      "Epoch [3/50] - Batch [250/938] - Loss: 0.3943\n",
      "Epoch [3/50] - Batch [500/938] - Loss: 0.1332\n",
      "Epoch [3/50] - Batch [750/938] - Loss: 0.4327\n",
      "Epoch [3/50] - Train Loss: 0.2969\n",
      "Epoch [3/50] - Valid Loss: 0.2095\n",
      "Epoch [4/50] - Batch [250/938] - Loss: 0.2062\n",
      "Epoch [4/50] - Batch [500/938] - Loss: 0.1835\n",
      "Epoch [4/50] - Batch [750/938] - Loss: 0.4137\n",
      "Epoch [4/50] - Train Loss: 0.2491\n",
      "Epoch [4/50] - Valid Loss: 0.1779\n",
      "Epoch [5/50] - Batch [250/938] - Loss: 0.1960\n",
      "Epoch [5/50] - Batch [500/938] - Loss: 0.1797\n",
      "Epoch [5/50] - Batch [750/938] - Loss: 0.3299\n",
      "Epoch [5/50] - Train Loss: 0.2174\n",
      "Epoch [5/50] - Valid Loss: 0.1669\n",
      "Epoch [6/50] - Batch [250/938] - Loss: 0.0925\n",
      "Epoch [6/50] - Batch [500/938] - Loss: 0.2567\n",
      "Epoch [6/50] - Batch [750/938] - Loss: 0.2573\n",
      "Epoch [6/50] - Train Loss: 0.1920\n",
      "Epoch [6/50] - Valid Loss: 0.1396\n",
      "Epoch [7/50] - Batch [250/938] - Loss: 0.1752\n",
      "Epoch [7/50] - Batch [500/938] - Loss: 0.2696\n",
      "Epoch [7/50] - Batch [750/938] - Loss: 0.0816\n",
      "Epoch [7/50] - Train Loss: 0.1728\n",
      "Epoch [7/50] - Valid Loss: 0.1240\n",
      "Epoch [8/50] - Batch [250/938] - Loss: 0.1551\n",
      "Epoch [8/50] - Batch [500/938] - Loss: 0.0283\n",
      "Epoch [8/50] - Batch [750/938] - Loss: 0.3559\n",
      "Epoch [8/50] - Train Loss: 0.1591\n",
      "Epoch [8/50] - Valid Loss: 0.1246\n",
      "Epoch [9/50] - Batch [250/938] - Loss: 0.1775\n",
      "Epoch [9/50] - Batch [500/938] - Loss: 0.1675\n",
      "Epoch [9/50] - Batch [750/938] - Loss: 0.1873\n",
      "Epoch [9/50] - Train Loss: 0.1479\n",
      "Epoch [9/50] - Valid Loss: 0.1110\n",
      "Epoch [10/50] - Batch [250/938] - Loss: 0.1143\n",
      "Epoch [10/50] - Batch [500/938] - Loss: 0.2913\n",
      "Epoch [10/50] - Batch [750/938] - Loss: 0.1118\n",
      "Epoch [10/50] - Train Loss: 0.1368\n",
      "Epoch [10/50] - Valid Loss: 0.1051\n",
      "Epoch [11/50] - Batch [250/938] - Loss: 0.1003\n",
      "Epoch [11/50] - Batch [500/938] - Loss: 0.1092\n",
      "Epoch [11/50] - Batch [750/938] - Loss: 0.2217\n",
      "Epoch [11/50] - Train Loss: 0.1281\n",
      "Epoch [11/50] - Valid Loss: 0.0967\n",
      "Epoch [12/50] - Batch [250/938] - Loss: 0.1592\n",
      "Epoch [12/50] - Batch [500/938] - Loss: 0.1471\n",
      "Epoch [12/50] - Batch [750/938] - Loss: 0.1876\n",
      "Epoch [12/50] - Train Loss: 0.1205\n",
      "Epoch [12/50] - Valid Loss: 0.0956\n",
      "Epoch [13/50] - Batch [250/938] - Loss: 0.1665\n",
      "Epoch [13/50] - Batch [500/938] - Loss: 0.0671\n",
      "Epoch [13/50] - Batch [750/938] - Loss: 0.0191\n",
      "Epoch [13/50] - Train Loss: 0.1152\n",
      "Epoch [13/50] - Valid Loss: 0.0928\n",
      "Epoch [14/50] - Batch [250/938] - Loss: 0.0370\n",
      "Epoch [14/50] - Batch [500/938] - Loss: 0.1309\n",
      "Epoch [14/50] - Batch [750/938] - Loss: 0.1731\n",
      "Epoch [14/50] - Train Loss: 0.1086\n",
      "Epoch [14/50] - Valid Loss: 0.0882\n",
      "Epoch [15/50] - Batch [250/938] - Loss: 0.0745\n",
      "Epoch [15/50] - Batch [500/938] - Loss: 0.0684\n",
      "Epoch [15/50] - Batch [750/938] - Loss: 0.0728\n",
      "Epoch [15/50] - Train Loss: 0.1034\n",
      "Epoch [15/50] - Valid Loss: 0.0825\n",
      "Epoch [16/50] - Batch [250/938] - Loss: 0.1181\n",
      "Epoch [16/50] - Batch [500/938] - Loss: 0.0596\n",
      "Epoch [16/50] - Batch [750/938] - Loss: 0.0585\n",
      "Epoch [16/50] - Train Loss: 0.0966\n",
      "Epoch [16/50] - Valid Loss: 0.0872\n",
      "Epoch [17/50] - Batch [250/938] - Loss: 0.0870\n",
      "Epoch [17/50] - Batch [500/938] - Loss: 0.1117\n",
      "Epoch [17/50] - Batch [750/938] - Loss: 0.1367\n",
      "Epoch [17/50] - Train Loss: 0.0932\n",
      "Epoch [17/50] - Valid Loss: 0.0800\n",
      "Epoch [18/50] - Batch [250/938] - Loss: 0.0402\n",
      "Epoch [18/50] - Batch [500/938] - Loss: 0.0396\n",
      "Epoch [18/50] - Batch [750/938] - Loss: 0.0520\n",
      "Epoch [18/50] - Train Loss: 0.0902\n",
      "Epoch [18/50] - Valid Loss: 0.0758\n",
      "Epoch [19/50] - Batch [250/938] - Loss: 0.0207\n",
      "Epoch [19/50] - Batch [500/938] - Loss: 0.0203\n",
      "Epoch [19/50] - Batch [750/938] - Loss: 0.1617\n",
      "Epoch [19/50] - Train Loss: 0.0884\n",
      "Epoch [19/50] - Valid Loss: 0.0745\n",
      "Epoch [20/50] - Batch [250/938] - Loss: 0.1228\n",
      "Epoch [20/50] - Batch [500/938] - Loss: 0.0737\n",
      "Epoch [20/50] - Batch [750/938] - Loss: 0.0462\n",
      "Epoch [20/50] - Train Loss: 0.0833\n",
      "Epoch [20/50] - Valid Loss: 0.0766\n",
      "Epoch [21/50] - Batch [250/938] - Loss: 0.0307\n",
      "Epoch [21/50] - Batch [500/938] - Loss: 0.0570\n",
      "Epoch [21/50] - Batch [750/938] - Loss: 0.0215\n",
      "Epoch [21/50] - Train Loss: 0.0787\n",
      "Epoch [21/50] - Valid Loss: 0.0722\n",
      "Epoch [22/50] - Batch [250/938] - Loss: 0.1148\n",
      "Epoch [22/50] - Batch [500/938] - Loss: 0.0139\n",
      "Epoch [22/50] - Batch [750/938] - Loss: 0.1276\n",
      "Epoch [22/50] - Train Loss: 0.0767\n",
      "Epoch [22/50] - Valid Loss: 0.0694\n",
      "Epoch [23/50] - Batch [250/938] - Loss: 0.0914\n",
      "Epoch [23/50] - Batch [500/938] - Loss: 0.0202\n",
      "Epoch [23/50] - Batch [750/938] - Loss: 0.0888\n",
      "Epoch [23/50] - Train Loss: 0.0751\n",
      "Epoch [23/50] - Valid Loss: 0.0661\n",
      "Epoch [24/50] - Batch [250/938] - Loss: 0.0900\n",
      "Epoch [24/50] - Batch [500/938] - Loss: 0.0430\n",
      "Epoch [24/50] - Batch [750/938] - Loss: 0.0766\n",
      "Epoch [24/50] - Train Loss: 0.0711\n",
      "Epoch [24/50] - Valid Loss: 0.0763\n",
      "Epoch [25/50] - Batch [250/938] - Loss: 0.0338\n",
      "Epoch [25/50] - Batch [500/938] - Loss: 0.0633\n",
      "Epoch [25/50] - Batch [750/938] - Loss: 0.0245\n",
      "Epoch [25/50] - Train Loss: 0.0709\n",
      "Epoch [25/50] - Valid Loss: 0.0653\n",
      "Epoch [26/50] - Batch [250/938] - Loss: 0.0626\n",
      "Epoch [26/50] - Batch [500/938] - Loss: 0.0248\n",
      "Epoch [26/50] - Batch [750/938] - Loss: 0.1280\n",
      "Epoch [26/50] - Train Loss: 0.0675\n",
      "Epoch [26/50] - Valid Loss: 0.0630\n",
      "Epoch [27/50] - Batch [250/938] - Loss: 0.0180\n",
      "Epoch [27/50] - Batch [500/938] - Loss: 0.0225\n",
      "Epoch [27/50] - Batch [750/938] - Loss: 0.0367\n",
      "Epoch [27/50] - Train Loss: 0.0656\n",
      "Epoch [27/50] - Valid Loss: 0.0641\n",
      "Epoch [28/50] - Batch [250/938] - Loss: 0.0802\n",
      "Epoch [28/50] - Batch [500/938] - Loss: 0.0590\n",
      "Epoch [28/50] - Batch [750/938] - Loss: 0.0373\n",
      "Epoch [28/50] - Train Loss: 0.0643\n",
      "Epoch [28/50] - Valid Loss: 0.0632\n",
      "Epoch [29/50] - Batch [250/938] - Loss: 0.0231\n",
      "Epoch [29/50] - Batch [500/938] - Loss: 0.0784\n",
      "Epoch [29/50] - Batch [750/938] - Loss: 0.0474\n",
      "Epoch [29/50] - Train Loss: 0.0611\n",
      "Epoch [29/50] - Valid Loss: 0.0650\n",
      "Epoch [30/50] - Batch [250/938] - Loss: 0.1439\n",
      "Epoch [30/50] - Batch [500/938] - Loss: 0.1115\n",
      "Epoch [30/50] - Batch [750/938] - Loss: 0.0349\n",
      "Epoch [30/50] - Train Loss: 0.0606\n",
      "Epoch [30/50] - Valid Loss: 0.0633\n",
      "Epoch [31/50] - Batch [250/938] - Loss: 0.0236\n",
      "Epoch [31/50] - Batch [500/938] - Loss: 0.0338\n",
      "Epoch [31/50] - Batch [750/938] - Loss: 0.0948\n",
      "Epoch [31/50] - Train Loss: 0.0600\n",
      "Epoch [31/50] - Valid Loss: 0.0612\n",
      "Epoch [32/50] - Batch [250/938] - Loss: 0.0158\n",
      "Epoch [32/50] - Batch [500/938] - Loss: 0.0939\n",
      "Epoch [32/50] - Batch [750/938] - Loss: 0.0432\n",
      "Epoch [32/50] - Train Loss: 0.0589\n",
      "Epoch [32/50] - Valid Loss: 0.0586\n",
      "Epoch [33/50] - Batch [250/938] - Loss: 0.0184\n",
      "Epoch [33/50] - Batch [500/938] - Loss: 0.0724\n",
      "Epoch [33/50] - Batch [750/938] - Loss: 0.0427\n",
      "Epoch [33/50] - Train Loss: 0.0547\n",
      "Epoch [33/50] - Valid Loss: 0.0625\n",
      "Epoch [34/50] - Batch [250/938] - Loss: 0.0316\n",
      "Epoch [34/50] - Batch [500/938] - Loss: 0.0187\n",
      "Epoch [34/50] - Batch [750/938] - Loss: 0.0191\n",
      "Epoch [34/50] - Train Loss: 0.0542\n",
      "Epoch [34/50] - Valid Loss: 0.0645\n",
      "Epoch [35/50] - Batch [250/938] - Loss: 0.0257\n",
      "Epoch [35/50] - Batch [500/938] - Loss: 0.0162\n",
      "Epoch [35/50] - Batch [750/938] - Loss: 0.0090\n",
      "Epoch [35/50] - Train Loss: 0.0514\n",
      "Epoch [35/50] - Valid Loss: 0.0622\n",
      "Epoch [36/50] - Batch [250/938] - Loss: 0.0191\n",
      "Epoch [36/50] - Batch [500/938] - Loss: 0.0526\n",
      "Epoch [36/50] - Batch [750/938] - Loss: 0.0036\n",
      "Epoch [36/50] - Train Loss: 0.0507\n",
      "Epoch [36/50] - Valid Loss: 0.0572\n",
      "Epoch [37/50] - Batch [250/938] - Loss: 0.0678\n",
      "Epoch [37/50] - Batch [500/938] - Loss: 0.0139\n",
      "Epoch [37/50] - Batch [750/938] - Loss: 0.0516\n",
      "Epoch [37/50] - Train Loss: 0.0497\n",
      "Epoch [37/50] - Valid Loss: 0.0591\n",
      "Epoch [38/50] - Batch [250/938] - Loss: 0.0362\n",
      "Epoch [38/50] - Batch [500/938] - Loss: 0.1715\n",
      "Epoch [38/50] - Batch [750/938] - Loss: 0.0812\n",
      "Epoch [38/50] - Train Loss: 0.0485\n",
      "Epoch [38/50] - Valid Loss: 0.0592\n",
      "Epoch [39/50] - Batch [250/938] - Loss: 0.0148\n",
      "Epoch [39/50] - Batch [500/938] - Loss: 0.1061\n",
      "Epoch [39/50] - Batch [750/938] - Loss: 0.0656\n",
      "Epoch [39/50] - Train Loss: 0.0480\n",
      "Epoch [39/50] - Valid Loss: 0.0583\n",
      "Epoch [40/50] - Batch [250/938] - Loss: 0.0558\n",
      "Epoch [40/50] - Batch [500/938] - Loss: 0.0164\n",
      "Epoch [40/50] - Batch [750/938] - Loss: 0.0330\n",
      "Epoch [40/50] - Train Loss: 0.0456\n",
      "Epoch [40/50] - Valid Loss: 0.0579\n",
      "Epoch [41/50] - Batch [250/938] - Loss: 0.0673\n",
      "Epoch [41/50] - Batch [500/938] - Loss: 0.0578\n",
      "Epoch [41/50] - Batch [750/938] - Loss: 0.0910\n",
      "Epoch [41/50] - Train Loss: 0.0440\n",
      "Epoch [41/50] - Valid Loss: 0.0594\n",
      "Epoch [42/50] - Batch [250/938] - Loss: 0.0300\n",
      "Epoch [42/50] - Batch [500/938] - Loss: 0.0568\n",
      "Epoch [42/50] - Batch [750/938] - Loss: 0.0780\n",
      "Epoch [42/50] - Train Loss: 0.0443\n",
      "Epoch [42/50] - Valid Loss: 0.0589\n",
      "Epoch [43/50] - Batch [250/938] - Loss: 0.0109\n",
      "Epoch [43/50] - Batch [500/938] - Loss: 0.0197\n",
      "Epoch [43/50] - Batch [750/938] - Loss: 0.0332\n",
      "Epoch [43/50] - Train Loss: 0.0431\n",
      "Epoch [43/50] - Valid Loss: 0.0578\n",
      "Epoch [44/50] - Batch [250/938] - Loss: 0.0071\n",
      "Epoch [44/50] - Batch [500/938] - Loss: 0.0358\n",
      "Epoch [44/50] - Batch [750/938] - Loss: 0.0270\n",
      "Epoch [44/50] - Train Loss: 0.0424\n",
      "Epoch [44/50] - Valid Loss: 0.0618\n",
      "Epoch [45/50] - Batch [250/938] - Loss: 0.0277\n",
      "Epoch [45/50] - Batch [500/938] - Loss: 0.0204\n",
      "Epoch [45/50] - Batch [750/938] - Loss: 0.0368\n",
      "Epoch [45/50] - Train Loss: 0.0429\n",
      "Epoch [45/50] - Valid Loss: 0.0607\n",
      "Epoch [46/50] - Batch [250/938] - Loss: 0.0272\n",
      "Epoch [46/50] - Batch [500/938] - Loss: 0.0600\n",
      "Epoch [46/50] - Batch [750/938] - Loss: 0.0295\n",
      "Epoch [46/50] - Train Loss: 0.0401\n",
      "Epoch [46/50] - Valid Loss: 0.0597\n",
      "Epoch [47/50] - Batch [250/938] - Loss: 0.0084\n",
      "Epoch [47/50] - Batch [500/938] - Loss: 0.0174\n",
      "Epoch [47/50] - Batch [750/938] - Loss: 0.0122\n",
      "Epoch [47/50] - Train Loss: 0.0392\n",
      "Epoch [47/50] - Valid Loss: 0.0587\n",
      "Epoch [48/50] - Batch [250/938] - Loss: 0.0138\n",
      "Epoch [48/50] - Batch [500/938] - Loss: 0.0370\n",
      "Epoch [48/50] - Batch [750/938] - Loss: 0.0382\n",
      "Epoch [48/50] - Train Loss: 0.0390\n",
      "Epoch [48/50] - Valid Loss: 0.0577\n",
      "Epoch [49/50] - Batch [250/938] - Loss: 0.0169\n",
      "Epoch [49/50] - Batch [500/938] - Loss: 0.0098\n",
      "Epoch [49/50] - Batch [750/938] - Loss: 0.0070\n",
      "Epoch [49/50] - Train Loss: 0.0389\n",
      "Epoch [49/50] - Valid Loss: 0.0647\n",
      "Epoch [50/50] - Batch [250/938] - Loss: 0.0510\n",
      "Epoch [50/50] - Batch [500/938] - Loss: 0.0177\n",
      "Epoch [50/50] - Batch [750/938] - Loss: 0.0143\n",
      "Epoch [50/50] - Train Loss: 0.0390\n",
      "Epoch [50/50] - Valid Loss: 0.0569\n"
     ]
    }
   ],
   "source": [
    "# Lists to store training and validation losses\n",
    "train_losses = []\n",
    "valid_losses = []\n",
    "\n",
    "# Training loop\n",
    "for epoch in range(num_epochs):\n",
    "    model.train()  # Set the model to training mode\n",
    "    train_loss = 0.0\n",
    "    \n",
    "    for batch_idx, (inputs, labels) in enumerate(trainloader):\n",
    "        inputs, labels = inputs.to(device), labels.to(device)  # Move data to GPU if available\n",
    "        \n",
    "        optimizer.zero_grad()\n",
    "        outputs = model(inputs)\n",
    "        loss = criterion(outputs, labels)\n",
    "        loss.backward()\n",
    "        optimizer.step()\n",
    "        \n",
    "        train_loss += loss.item()\n",
    "        \n",
    "        # Print loss after a set number of batches\n",
    "        if batch_idx % 250 == 249:\n",
    "            print(f\"Epoch [{epoch+1}/{num_epochs}] - Batch [{batch_idx+1}/{len(trainloader)}] - Loss: {loss.item():.4f}\")\n",
    "\n",
    "    train_loss /= len(trainloader)\n",
    "    train_losses.append(train_loss)\n",
    "    print(f\"Epoch [{epoch+1}/{num_epochs}] - Train Loss: {train_loss:.4f}\")\n",
    "    \n",
    "    # Validation loop\n",
    "    model.eval()  # Set the model to evaluation mode\n",
    "    valid_loss = 0.0\n",
    "    \n",
    "    with torch.no_grad():\n",
    "        for inputs, labels in validloader:\n",
    "            inputs, labels = inputs.to(device), labels.to(device)\n",
    "            outputs = model(inputs)\n",
    "            loss = criterion(outputs, labels)\n",
    "            valid_loss += loss.item()\n",
    "    \n",
    "    valid_loss /= len(validloader)\n",
    "    valid_losses.append(valid_loss)\n",
    "\n",
    "    print(f\"Epoch [{epoch+1}/{num_epochs}] - Valid Loss: {valid_loss:.4f}\")"
   ]
  },
  {
   "cell_type": "markdown",
   "metadata": {},
   "source": [
    "# Lists to store training and validation losses\n",
    "train_losses = []\n",
    "valid_losses = []\n",
    "\n",
    "# Training loop\n",
    "for epoch in range(num_epochs):\n",
    "    model.train()  # Set the model to training mode\n",
    "    train_loss = 0.0\n",
    "    \n",
    "    for inputs, labels in trainloader:\n",
    "        optimizer.zero_grad()\n",
    "        outputs = model(inputs)\n",
    "        loss = criterion(outputs, labels)\n",
    "        loss.backward()\n",
    "        optimizer.step()\n",
    "        train_loss += loss.item()\n",
    "        \n",
    "    train_loss /= len(trainloader)\n",
    "    train_losses.append(train_loss)\n",
    "\n",
    "    # Validation loop\n",
    "    model.eval()  # Set the model to evaluation mode\n",
    "    valid_loss = 0.0\n",
    "    \n",
    "    with torch.no_grad():\n",
    "        for inputs, labels in validloader:\n",
    "            outputs = model(inputs)\n",
    "            loss = criterion(outputs, labels)\n",
    "            valid_loss += loss.item()\n",
    "    \n",
    "    valid_loss /= len(validloader)\n",
    "    valid_losses.append(valid_loss)\n",
    "    \n",
    "    print(f\"Epoch [{epoch+1}/{num_epochs}] - Train Loss: {train_loss:.4f} - Valid Loss: {valid_loss:.4f}\")"
   ]
  },
  {
   "cell_type": "markdown",
   "metadata": {},
   "source": [
    "Plot the training loss (and validation loss/accuracy, if recorded)."
   ]
  },
  {
   "cell_type": "code",
   "execution_count": 30,
   "metadata": {},
   "outputs": [
    {
     "data": {
      "image/png": "[encoded data removed]",
      "text/plain": [
       "<Figure size 432x288 with 1 Axes>"
      ]
     },
     "metadata": {
      "image/png": {
       "height": 277,
       "width": 385
      },
      "needs_background": "light"
     },
     "output_type": "display_data"
    }
   ],
   "source": [
    "# Plot the loss curves\n",
    "plt.plot(train_losses, label='Train Loss')\n",
    "plt.plot(valid_losses, label='Validation Loss')\n",
    "plt.xlabel('Epoch')\n",
    "plt.ylabel('Loss')\n",
    "plt.title('Training and Validation Loss')\n",
    "plt.legend()\n",
    "plt.show()"
   ]
  },
  {
   "cell_type": "markdown",
   "metadata": {},
   "source": [
    "## Testing your model\n",
    "Using the previously created `DataLoader` for the test set, compute the percentage of correct predictions using the highest probability prediction. \n",
    "\n",
    "If your accuracy is over 90%, great work, but see if you can push a bit further! \n",
    "If your accuracy is under 90%, you'll need to make improvements.\n",
    "Go back and check your model architecture, loss function, and optimizer to make sure they're appropriate for an image classification task."
   ]
  },
  {
   "cell_type": "code",
   "execution_count": 31,
   "metadata": {},
   "outputs": [
    {
     "name": "stdout",
     "output_type": "stream",
     "text": [
      "Test Accuracy: 0.9828\n"
     ]
    }
   ],
   "source": [
    "model.eval()  # Switch to evaluation mode\n",
    "with torch.no_grad():\n",
    "    total_correct = 0\n",
    "    total_samples = 0\n",
    "    for inputs, labels in testloader:\n",
    "        inputs, labels = inputs.to(device), labels.to(device)  # Move data to the same device as the model\n",
    "        outputs = model(inputs)\n",
    "        _, predicted = torch.max(outputs, 1)\n",
    "        total_samples += labels.size(0)\n",
    "        total_correct += (predicted == labels).sum().item()\n",
    "\n",
    "    accuracy = total_correct / total_samples\n",
    "    print(f\"Test Accuracy: {accuracy:.4f}\")"
   ]
  },
  {
   "cell_type": "markdown",
   "metadata": {},
   "source": [
    "## Improving your model\n",
    "\n",
    "Once your model is done training, try tweaking your hyperparameters and training again below to improve your accuracy on the test set!"
   ]
  },
  {
   "cell_type": "code",
   "execution_count": 32,
   "metadata": {},
   "outputs": [],
   "source": [
    "## YOUR CODE HERE ##"
   ]
  },
  {
   "cell_type": "markdown",
   "metadata": {},
   "source": [
    "## Saving your model\n",
    "Using `torch.save`, save your model for future loading."
   ]
  },
  {
   "cell_type": "code",
   "execution_count": 33,
   "metadata": {},
   "outputs": [
    {
     "name": "stdout",
     "output_type": "stream",
     "text": [
      "Model saved!\n"
     ]
    }
   ],
   "source": [
    "# Save the trained model\n",
    "torch.save(model.state_dict(), 'simple_nn_model.pth')\n",
    "print(\"Model saved!\")"
   ]
  },
  {
   "cell_type": "code",
   "execution_count": 34,
   "metadata": {},
   "outputs": [
    {
     "name": "stdout",
     "output_type": "stream",
     "text": [
      "Model loaded!\n"
     ]
    }
   ],
   "source": [
    "# Later, to load the saved model\n",
    "model = SimpleNN(input_size, a_hidden_dim, b_hidden_dim, output_size)  # Create an instance of the model\n",
    "model.load_state_dict(torch.load('simple_nn_model.pth'))\n",
    "model.eval()  # Set the model to evaluation mode\n",
    "print(\"Model loaded!\")"
   ]
  },
  {
   "cell_type": "code",
   "execution_count": null,
   "metadata": {},
   "outputs": [],
   "source": []
  }
 ],
 "metadata": {
  "kernelspec": {
   "display_name": "Python 3",
   "language": "python",
   "name": "python3"
  },
  "language_info": {
   "codemirror_mode": {
    "name": "ipython",
    "version": 3
   },
   "file_extension": ".py",
   "mimetype": "text/x-python",
   "name": "python",
   "nbconvert_exporter": "python",
   "pygments_lexer": "ipython3",
   "version": "3.7.6"
  }
 },
 "nbformat": 4,
 "nbformat_minor": 4
}
